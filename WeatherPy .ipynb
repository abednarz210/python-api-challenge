{
 "cells": [
  {
   "cell_type": "markdown",
   "metadata": {},
   "source": [
    "# WeatherPy\n",
    "----\n",
    "\n",
    "#### Note\n",
    "* Instructions have been included for each segment. You do not have to follow them exactly, but they are included to help you think through the steps."
   ]
  },
  {
   "cell_type": "code",
   "execution_count": 11,
   "metadata": {
    "scrolled": true
   },
   "outputs": [],
   "source": [
    "# Dependencies and Setup\n",
    "import matplotlib.pyplot as plt\n",
    "import pandas as pd\n",
    "import numpy as np\n",
    "import requests\n",
    "import time\n",
    "from scipy.stats import linregress\n",
    "\n",
    "# Import API key\n",
    "from api_keys import weather_api_key\n",
    "\n",
    "# Incorporated citipy to determine city based on latitude and longitude\n",
    "from citipy import citipy\n",
    "\n",
    "# Output File (CSV)\n",
    "output_data_file = \"output_data/cities.csv\"\n",
    "\n",
    "# Range of latitudes and longitudes\n",
    "lat_range = (-90, 90)\n",
    "lng_range = (-180, 180)"
   ]
  },
  {
   "cell_type": "markdown",
   "metadata": {},
   "source": [
    "## Generate Cities List"
   ]
  },
  {
   "cell_type": "code",
   "execution_count": 12,
   "metadata": {},
   "outputs": [
    {
     "data": {
      "text/plain": [
       "601"
      ]
     },
     "execution_count": 12,
     "metadata": {},
     "output_type": "execute_result"
    }
   ],
   "source": [
    "# List for holding lat_lngs and cities\n",
    "lat_lngs = []\n",
    "cities = []\n",
    "\n",
    "# Create a set of random lat and lng combinations\n",
    "lats = np.random.uniform(lat_range[0], lat_range[1], size=1500)\n",
    "lngs = np.random.uniform(lng_range[0], lng_range[1], size=1500)\n",
    "lat_lngs = zip(lats, lngs)\n",
    "\n",
    "# Identify nearest city for each lat, lng combination\n",
    "for lat_lng in lat_lngs:\n",
    "    city = citipy.nearest_city(lat_lng[0], lat_lng[1]).city_name\n",
    "    \n",
    "    # If the city is unique, then add it to a our cities list\n",
    "    if city not in cities:\n",
    "        cities.append(city)\n",
    "\n",
    "# Print the city count to confirm sufficient count\n",
    "len(cities)"
   ]
  },
  {
   "cell_type": "markdown",
   "metadata": {},
   "source": [
    "### Perform API Calls\n",
    "* Perform a weather check on each city using a series of successive API calls.\n",
    "* Include a print log of each city as it'sbeing processed (with the city number and city name).\n"
   ]
  },
  {
   "cell_type": "code",
   "execution_count": 13,
   "metadata": {
    "scrolled": true
   },
   "outputs": [
    {
     "name": "stdout",
     "output_type": "stream",
     "text": [
      "http://api.openweathermap.org/data/2.5/weather?&appid=f6fdde5cb8d527a63ed5c816d534b1f6&q=lat,lon\n",
      "['ushuaia', 'nyurba', 'dingle', 'avarua', 'new norfolk', 'mahebourg', 'la ronge', 'vaini', 'oga', 'viligili', 'jamestown', 'kodiak', 'taolanaro', 'traverse city', 'busselton', 'vestmanna', 'rikitea', 'hobyo', 'longyearbyen', 'kapaa', 'cape town', 'coquimbo', 'carnarvon', 'kambove', 'east london', 'olafsvik', 'tsihombe', 'nikolskoye', 'port alfred', 'bredasdorp', 'mar del plata', 'esperance', 'carutapera', 'cadillac', 'belushya guba', 'grindavik', 'baie-comeau', 'atuona', 'mount isa', 'qaanaaq', 'hobart', 'norman wells', 'soyo', 'sitka', 'albany', 'kruisfontein', 'methoni', 'nizhneyansk', 'conceicao das alagoas', 'ancud', 'det udom', 'faanui', 'bengkulu', 'belyy yar', 'asyut', 'avera', 'hilo', 'nabire', 'eitorf', 'barentsburg', 'dezful', 'bukachacha', 'aykhal', 'tuktoyaktuk', 'sibolga', 'ilulissat', 'santa cruz de la palma', 'punta arenas', 'tumannyy', 'iqaluit', 'vaitupu', 'aklavik', 'tuatapere', 'naqadeh', 'nelson bay', 'hamilton', 'torbay', 'yellowknife', 'tasiilaq', 'hasaki', 'tombouctou', 'carovigno', 'ahipara', 'ayia galini', 'san borja', 'touros', 'flinders', 'sovetskiy', 'tawnat', 'hermanus', 'san patricio', 'bambous virieux', 'cabedelo', 'ponta do sol', 'castro', 'sembakung', 'ribeira grande', 'sobolevo', 'bafq', 'susangerd', 'puerto escondido', 'sola', 'thompson', 'boddam', 'trincomalee', 'saint-pierre', 'saskylakh', 'coihaique', 'chuy', 'safaga', 'hithadhoo', 'ribeira brava', 'morozovsk', 'lompoc', 'port lincoln', 'qui nhon', 'flin flon', 'tiksi', 'lorengau', 'takapau', 'alekseyevka', 'taltal', 'puerto ayora', 'takaka', 'los llanos de aridane', 'georgetown', 'upernavik', 'paamiut', 'butaritari', 'cap malheureux', 'novyy urengoy', 'pacific grove', 'hualmay', 'collipulli', 'maceio', 'russell', 'narsaq', 'tuy hoa', 'alekseyevskaya', 'tyrma', 'vidim', 'baruun-urt', 'conchal', 'labytnangi', 'makakilo city', 'buala', 'mataura', 'dombarovskiy', 'colares', 'murindo', 'cabo san lucas', 'kulhudhuffushi', 'marienburg', 'kavieng', 'grand river south east', 'denpasar', 'plettenberg bay', 'gamba', 'kaitangata', 'husavik', 'broome', 'kontagora', 'gien', 'lavrentiya', 'souillac', 'humaita', 'muros', 'oranjestad', 'artyk', 'beloha', 'nemuro', 'bubaque', 'kiruna', 'ulaangom', 'dikson', 'uruacu', 'arraial do cabo', 'pangnirtung', 'emerald', 'port elizabeth', 'pidhorodne', 'prince rupert', 'havre-saint-pierre', 'zelenoborsk', 'noumea', 'lagoa', 'san-pedro', 'mayo', 'falam', 'litovko', 'leningradskiy', 'marovoay', 'beringovskiy', 'vao', 'maroantsetra', 'yuancheng', 'anadyr', 'atar', 'barrow', 'henties bay', 'westpunt', 'port blair', 'cockburn town', 'tiznit', 'bluff', 'sur', 'chokurdakh', 'kitui', 'shimoda', 'severo-kurilsk', 'alofi', 'constitucion', 'biak', 'evensk', 'khandbari', 'kirakira', 'ulladulla', 'alice springs', 'bereda', 'yavatmal', 'akranes', 'luderitz', 'cherskiy', 'illoqqortoormiut', 'acajutla', 'buraydah', 'sabha', 'rosarito', 'tabiauea', 'diamantino', 'nouadhibou', 'sao filipe', 'kaeo', 'esmeraldas', 'ucluelet', 'poronaysk', 'tomatlan', 'mecca', 'la paz', 'sorong', 'urucara', 'balabac', 'pevek', 'mao', 'padang', 'ocampo', 'ternate', 'kamen-na-obi', 'laguna', 'susanville', 'victoria', 'umm lajj', 'san jeronimo', 'pocatello', 'provideniya', 'khatanga', 'talara', 'galveston', 'broken hill', 'donskoye', 'sistranda', 'quatre cocos', 'mananjary', 'ayan', 'meyungs', 'manta', 'providencia', 'khash', 'cidreira', 'bathsheba', 'nanortalik', 'lebu', 'sataua', 'san javier', 'warqla', 'axim', 'karatuzskoye', 'oskemen', 'tura', 'safford', 'namibe', 'knittelfeld', 'talesh', 'malinovskiy', 'marquette', 'risod', 'mys shmidta', 'grand gaube', 'fairbanks', 'livingston', 'altamont', 'pattoki', 'vestmannaeyjar', 'dunedin', 'anzhero-sudzhensk', 'cumbitara', 'boden', 'richards bay', 'katsuura', 'ketchikan', 'umzimvubu', 'labuhan', 'champerico', 'tazmalt', 'wasilla', 'akyab', 'trairi', 'maryville', 'maragogi', 'korla', 'saint george', 'portree', 'north myrtle beach', 'lolua', 'kununurra', 'tsiroanomandidy', 'tessalit', 'adwa', 'yulara', 'hervey bay', 'ilo', 'karratha', 'lisakovsk', 'klaksvik', 'mahina', 'kiyasovo', 'kristianstad', 'mentok', 'dogondoutchi', 'thinadhoo', 'fortuna', 'palabuhanratu', 'saint-philippe', 'khonuu', 'pisco', 'rungata', 'kahului', 'dois vizinhos', 'kieta', 'faxinal', 'college', 'sorland', 'poum', 'san cristobal', 'asfi', 'ishigaki', 'port hawkesbury', 'trelew', 'kalmunai', 'bethel', 'naftah', 'bozeman', 'imisli', 'lasem', 'houma', 'warren', 'portland', 'zapolyarnyy', 'tarudant', 'weligama', 'saint-jean-port-joli', 'vsevolodo-vilva', 'tias', 'ngukurr', 'ushtobe', 'san andres', 'brigantine', 'conceicao do araguaia', 'tual', 'salalah', 'feldkirchen', 'kyenjojo', 'isangel', 'ambon', 'mount gambier', 'dossor', 'choya', 'baracoa', 'guerrero negro', 'slavsk', 'karakendzha', 'namatanai', 'nan', 'anaconda', 'yeniseysk', 'tacna', 'bousse', 'sorvag', 'ahuimanu', 'dubai', 'bur gabo', 'khani', 'seoul', 'pyay', 'inhambane', 'samarai', 'talnakh', 'sinnamary', 'naze', 'barra do garcas', 'kavaratti', 'coahuayana', 'samalaeulu', 'havoysund', 'antalya', 'yatou', 'surt', 'ostrovnoy', 'honavar', 'wukari', 'turgenevo', 'rafraf', 'santa maria', 'byadgi', 'brae', 'saldanha', 'amderma', 'attawapiskat', 'kaohsiung', 'santa rosa', 'geraldton', 'kungurtug', 'moshi', 'itarema', 'don sak', 'roma', 'mackay', 'pyapon', 'semey', 'rogun', 'harper', 'yar-sale', 'margate', 'abha', 'caruray', 'abnub', 'tawang', 'barranca', 'tartus', 'fare', 'zhigansk', 'hare bay', 'barquisimeto', 'jalu', 'bataipora', 'verkhniye sergi', 'veraval', 'sao joao da barra', 'sentyabrskiy', 'lamu', 'play cu', 'cheuskiny', 'opole', 'lagos', 'pakhtakoron', 'dharchula', 'satitoa', 'marawi', 'solovetskiy', 'camana', 'atka', 'clyde river', 'khorixas', 'dauriya', 'sinjar', 'mudyuga', 'chattanooga', 'kelowna', 'zhanatas', 'northam', 'tsogni', 'westport', 'panacan', 'denau', 'skjervoy', 'maraa', 'yeppoon', 'caravelas', 'vardo', 'comodoro rivadavia', 'sao domingos', 'we', 'kawalu', 'afua', 'nishihara', 'egvekinot', 'tadine', 'svetlyy', 'qaqortoq', 'te anau', 'cayenne', 'bokspits', 'vostok', 'half moon bay', 'lodja', 'atherton', 'saleaula', 'kiunga', 'nouakchott', 'semporna', 'praia da vitoria', 'haibowan', 'xai-xai', 'airai', 'alexandria', 'nome', 'gat', 'ofaqim', 'ahumada', 'gayny', 'wad madani', 'oktyabrskiy', 'fairview', 'tshikapa', 'boende', 'tubuala', 'pontian kecil', 'bati', 'baiyin', 'tabory', 'karlskrona', 'samusu', 'talaya', 'aitape', 'marystown', 'gimli', 'dakar', 'murmino', 'berezovyy', 'vizinga', 'druzhnaya gorka', 'mandali', 'pasni', 'bajina basta', 'dicabisagan', 'ada', 'teguldet', 'phichit', 'alugan', 'metro', 'mareeba', 'kota belud', 'sonoita', 'bandarbeyla', 'leshukonskoye', 'banjar', 'poltavka', 'aberdeen', 'kaputa', 'esenyurt', 'doha', 'kangaatsiaq', 'tautira', 'manacapuru', 'lardos', 'camacha', 'great falls', 'katha', 'zyryanka', 'rauma', 'belmonte', 'faya', 'rocha', 'banda aceh', 'aksarka', 'rio gallegos', 'changji', 'roebourne', 'allanmyo', 'guhagar', 'ust-maya', 'yining', 'mirnyy', 'porto novo', 'coolum beach', 'norton', 'dudinka', 'punakha', 'lazaro cardenas', 'the valley', 'bacuit', 'eldikan', 'juba', 'pervomayskoye', 'yirol', 'tromso', 'sakakah', 'kalulushi', 'halalo', 'miquelon', 'conde', 'harrisburg', 'kodinsk', 'paso de los toros', 'siderno', 'dibrugarh', 'garowe', 'ponta delgada', 'fort nelson', 'okha', 'ndende']\n"
     ]
    }
   ],
   "source": [
    "#create url for query \n",
    "\n",
    "url = \"http://api.openweathermap.org/data/2.5/weather?&\"\n",
    "query_url = f\"{url}appid={weather_api_key}&q=lat,lon\" \n",
    "print(query_url) \n",
    "\n",
    "\n",
    "#lists to hold response info \n",
    "lat = [] \n",
    "lon = []\n",
    "temp = [] \n",
    "humid = [] \n",
    "cloudy = [] \n",
    "wspeed = [] \n",
    "country = [] \n",
    "date = []\n",
    "\n",
    "\n",
    "for city in cities: \n",
    "        response = requests.get(query_url + city).json() \n",
    "        lat.append(response['coord']['lat'])\n",
    "        lon.append(response['coord']['lon'])\n",
    "        temp.append(response['main']['temp_max']) \n",
    "        humid.append(response['main']['humidity'])\n",
    "        cloudy.append(response['clouds']['all'])\n",
    "        wspeed.append(response['wind']['speed']) \n",
    "        country.append(response['sys']['country'])\n",
    "        date.append(response['sys'])\n",
    "       \n",
    "        \n",
    "print(cities)"
   ]
  },
  {
   "cell_type": "markdown",
   "metadata": {},
   "source": [
    "### Convert Raw Data to DataFrame\n",
    "* Export the city data into a .csv.\n",
    "* Display the DataFrame"
   ]
  },
  {
   "cell_type": "code",
   "execution_count": 2,
   "metadata": {},
   "outputs": [
    {
     "ename": "SyntaxError",
     "evalue": "EOL while scanning string literal (<ipython-input-2-cecb72f4847f>, line 3)",
     "output_type": "error",
     "traceback": [
      "\u001b[0;36m  File \u001b[0;32m\"<ipython-input-2-cecb72f4847f>\"\u001b[0;36m, line \u001b[0;32m3\u001b[0m\n\u001b[0;31m    cities_df = pd.DataFrame(cities)({City\":cities,\u001b[0m\n\u001b[0m                                                    ^\u001b[0m\n\u001b[0;31mSyntaxError\u001b[0m\u001b[0;31m:\u001b[0m EOL while scanning string literal\n"
     ]
    }
   ],
   "source": [
    "#create and display dataframe\n",
    "\n",
    "cities_df = pd.DataFrame(cities)\n",
    "    City\":cities, \n",
    "    \"Latitude\": lat,\n",
    "    \"Longitude\": lon,\n",
    "    \"Temperature\": temp, \n",
    "    \"Humidity\": humid,\n",
    "    \"Cloudy\": cloudy,\n",
    "    \"Wind\": wspeed,\n",
    "    \"Country\": country,\n",
    "    \"Date\": date}0\n",
    "                                  \n",
    "        \n",
    "        cities_df"
   ]
  },
  {
   "cell_type": "code",
   "execution_count": null,
   "metadata": {},
   "outputs": [],
   "source": []
  },
  {
   "cell_type": "markdown",
   "metadata": {},
   "source": [
    "## Inspect the data and remove the cities where the humidity > 100%.\n",
    "----\n",
    "Skip this step if there are no cities that have humidity > 100%. "
   ]
  },
  {
   "cell_type": "code",
   "execution_count": null,
   "metadata": {},
   "outputs": [],
   "source": []
  },
  {
   "cell_type": "code",
   "execution_count": null,
   "metadata": {},
   "outputs": [],
   "source": [
    "#  Get the indices of cities that have humidity over 100%.\n"
   ]
  },
  {
   "cell_type": "code",
   "execution_count": null,
   "metadata": {},
   "outputs": [],
   "source": [
    "# Make a new DataFrame equal to the city data to drop all humidity outliers by index.\n",
    "# Passing \"inplace=False\" will make a copy of the city_data DataFrame, which we call \"clean_city_data\".\n"
   ]
  },
  {
   "cell_type": "code",
   "execution_count": null,
   "metadata": {},
   "outputs": [],
   "source": [
    "\n"
   ]
  },
  {
   "cell_type": "markdown",
   "metadata": {},
   "source": [
    "## Plotting the Data\n",
    "* Use proper labeling of the plots using plot titles (including date of analysis) and axes labels.\n",
    "* Save the plotted figures as .pngs."
   ]
  },
  {
   "cell_type": "markdown",
   "metadata": {},
   "source": [
    "## Latitude vs. Temperature Plot"
   ]
  },
  {
   "cell_type": "code",
   "execution_count": null,
   "metadata": {
    "scrolled": true
   },
   "outputs": [],
   "source": []
  },
  {
   "cell_type": "markdown",
   "metadata": {},
   "source": [
    "## Latitude vs. Humidity Plot"
   ]
  },
  {
   "cell_type": "code",
   "execution_count": null,
   "metadata": {},
   "outputs": [],
   "source": []
  },
  {
   "cell_type": "markdown",
   "metadata": {},
   "source": [
    "## Latitude vs. Cloudiness Plot"
   ]
  },
  {
   "cell_type": "code",
   "execution_count": null,
   "metadata": {},
   "outputs": [],
   "source": []
  },
  {
   "cell_type": "markdown",
   "metadata": {},
   "source": [
    "## Latitude vs. Wind Speed Plot"
   ]
  },
  {
   "cell_type": "code",
   "execution_count": null,
   "metadata": {},
   "outputs": [],
   "source": []
  },
  {
   "cell_type": "markdown",
   "metadata": {},
   "source": [
    "## Linear Regression"
   ]
  },
  {
   "cell_type": "code",
   "execution_count": null,
   "metadata": {},
   "outputs": [],
   "source": []
  },
  {
   "cell_type": "markdown",
   "metadata": {},
   "source": [
    "####  Northern Hemisphere - Max Temp vs. Latitude Linear Regression"
   ]
  },
  {
   "cell_type": "code",
   "execution_count": null,
   "metadata": {},
   "outputs": [],
   "source": []
  },
  {
   "cell_type": "markdown",
   "metadata": {},
   "source": [
    "####  Southern Hemisphere - Max Temp vs. Latitude Linear Regression"
   ]
  },
  {
   "cell_type": "code",
   "execution_count": null,
   "metadata": {},
   "outputs": [],
   "source": []
  },
  {
   "cell_type": "markdown",
   "metadata": {},
   "source": [
    "####  Northern Hemisphere - Humidity (%) vs. Latitude Linear Regression"
   ]
  },
  {
   "cell_type": "code",
   "execution_count": null,
   "metadata": {},
   "outputs": [],
   "source": []
  },
  {
   "cell_type": "markdown",
   "metadata": {},
   "source": [
    "####  Southern Hemisphere - Humidity (%) vs. Latitude Linear Regression"
   ]
  },
  {
   "cell_type": "code",
   "execution_count": null,
   "metadata": {},
   "outputs": [],
   "source": []
  },
  {
   "cell_type": "markdown",
   "metadata": {},
   "source": [
    "####  Northern Hemisphere - Cloudiness (%) vs. Latitude Linear Regression"
   ]
  },
  {
   "cell_type": "code",
   "execution_count": null,
   "metadata": {},
   "outputs": [],
   "source": []
  },
  {
   "cell_type": "markdown",
   "metadata": {},
   "source": [
    "####  Southern Hemisphere - Cloudiness (%) vs. Latitude Linear Regression"
   ]
  },
  {
   "cell_type": "code",
   "execution_count": null,
   "metadata": {},
   "outputs": [],
   "source": []
  },
  {
   "cell_type": "markdown",
   "metadata": {},
   "source": [
    "####  Northern Hemisphere - Wind Speed (mph) vs. Latitude Linear Regression"
   ]
  },
  {
   "cell_type": "code",
   "execution_count": null,
   "metadata": {},
   "outputs": [],
   "source": []
  },
  {
   "cell_type": "markdown",
   "metadata": {},
   "source": [
    "####  Southern Hemisphere - Wind Speed (mph) vs. Latitude Linear Regression"
   ]
  },
  {
   "cell_type": "code",
   "execution_count": null,
   "metadata": {},
   "outputs": [],
   "source": []
  },
  {
   "cell_type": "code",
   "execution_count": null,
   "metadata": {},
   "outputs": [],
   "source": []
  }
 ],
 "metadata": {
  "anaconda-cloud": {},
  "kernel_info": {
   "name": "python3"
  },
  "kernelspec": {
   "display_name": "Python [conda env:PythonData] *",
   "language": "python",
   "name": "conda-env-PythonData-py"
  },
  "language_info": {
   "codemirror_mode": {
    "name": "ipython",
    "version": 3
   },
   "file_extension": ".py",
   "mimetype": "text/x-python",
   "name": "python",
   "nbconvert_exporter": "python",
   "pygments_lexer": "ipython3",
   "version": "3.6.10"
  },
  "latex_envs": {
   "LaTeX_envs_menu_present": true,
   "autoclose": false,
   "autocomplete": true,
   "bibliofile": "biblio.bib",
   "cite_by": "apalike",
   "current_citInitial": 1,
   "eqLabelWithNumbers": true,
   "eqNumInitial": 1,
   "hotkeys": {
    "equation": "Ctrl-E",
    "itemize": "Ctrl-I"
   },
   "labels_anchors": false,
   "latex_user_defs": false,
   "report_style_numbering": false,
   "user_envs_cfg": false
  },
  "nteract": {
   "version": "0.12.3"
  }
 },
 "nbformat": 4,
 "nbformat_minor": 2
}
