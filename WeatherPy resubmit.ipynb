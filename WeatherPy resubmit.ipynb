{
 "cells": [
  {
   "cell_type": "markdown",
   "metadata": {},
   "source": [
    "# WeatherPy\n",
    "----\n",
    "\n",
    "#### Note\n",
    "* Instructions have been included for each segment. You do not have to follow them exactly, but they are included to help you think through the steps."
   ]
  },
  {
   "cell_type": "code",
   "execution_count": 1,
   "metadata": {
    "scrolled": true
   },
   "outputs": [],
   "source": [
    "# Dependencies and Setup\n",
    "import matplotlib.pyplot as plt\n",
    "import pandas as pd\n",
    "import numpy as np\n",
    "import json\n",
    "import requests\n",
    "import time\n",
    "from scipy.stats import linregress\n",
    "\n",
    "# Import API key\n",
    "from api_keys import weather_api_key\n",
    "\n",
    "# Incorporated citipy to determine city based on latitude and longitude\n",
    "from citipy import citipy\n",
    "\n",
    "# Output File (CSV)\n",
    "output_data_file = \"output_data/cities.csv\"\n",
    "\n",
    "# Range of latitudes and longitudes\n",
    "lat_range = (-90, 90)\n",
    "lng_range = (-180, 180)"
   ]
  },
  {
   "cell_type": "markdown",
   "metadata": {},
   "source": [
    "## Generate Cities List"
   ]
  },
  {
   "cell_type": "code",
   "execution_count": 2,
   "metadata": {},
   "outputs": [
    {
     "data": {
      "text/plain": [
       "588"
      ]
     },
     "execution_count": 2,
     "metadata": {},
     "output_type": "execute_result"
    }
   ],
   "source": [
    "# List for holding lat_lngs and cities\n",
    "lat_lngs = []\n",
    "cities = []\n",
    "\n",
    "# Create a set of random lat and lng combinations\n",
    "lats = np.random.uniform(lat_range[0], lat_range[1], size=1500)\n",
    "lngs = np.random.uniform(lng_range[0], lng_range[1], size=1500)\n",
    "lat_lngs = zip(lats, lngs)\n",
    "\n",
    "# Identify nearest city for each lat, lng combination\n",
    "for lat_lng in lat_lngs:\n",
    "    city = citipy.nearest_city(lat_lng[0], lat_lng[1]).city_name\n",
    "    \n",
    "    # If the city is unique, then add it to a our cities list\n",
    "    if city not in cities:\n",
    "        cities.append(city)\n",
    "\n",
    "# Print the city count to confirm sufficient count\n",
    "len(cities)"
   ]
  },
  {
   "cell_type": "markdown",
   "metadata": {},
   "source": [
    "### Perform API Calls\n",
    "* Perform a weather check on each city using a series of successive API calls.\n",
    "* Include a print log of each city as it'sbeing processed (with the city number and city name).\n"
   ]
  },
  {
   "cell_type": "code",
   "execution_count": 47,
   "metadata": {
    "scrolled": true
   },
   "outputs": [
    {
     "name": "stdout",
     "output_type": "stream",
     "text": [
      "http://api.openweathermap.org/data/2.5/weather?appid=f6fdde5cb8d527a63ed5c816d534b1f6&units=imperial&q=\n",
      "Processing Record 1 of Set 1 | yerbogachen\n",
      "Processing Record 2 of Set 1 | kavaratti\n",
      "Processing Record 3 of Set 1 | wanning\n",
      "City not found. Skipping\n",
      "Processing Record 4 of Set 1 | hobart\n",
      "Processing Record 5 of Set 1 | sao joao da barra\n",
      "Processing Record 6 of Set 1 | rikitea\n",
      "Processing Record 7 of Set 1 | yellowknife\n",
      "City not found. Skipping\n",
      "Processing Record 8 of Set 1 | iqaluit\n",
      "Processing Record 9 of Set 1 | mataura\n",
      "Processing Record 10 of Set 1 | tasiilaq\n",
      "Processing Record 11 of Set 1 | acapulco\n",
      "Processing Record 12 of Set 1 | ribeira grande\n",
      "Processing Record 13 of Set 1 | bengkulu\n",
      "Processing Record 14 of Set 1 | barrow\n",
      "Processing Record 15 of Set 1 | kapaa\n",
      "Processing Record 16 of Set 1 | mareeba\n",
      "City not found. Skipping\n",
      "City not found. Skipping\n",
      "Processing Record 17 of Set 1 | chuy\n",
      "Processing Record 18 of Set 1 | victoria\n",
      "Processing Record 19 of Set 1 | busselton\n",
      "Processing Record 20 of Set 1 | tuktoyaktuk\n",
      "Processing Record 21 of Set 1 | albany\n",
      "Processing Record 22 of Set 1 | champerico\n",
      "Processing Record 23 of Set 1 | saint-philippe\n",
      "Processing Record 24 of Set 1 | richards bay\n",
      "Processing Record 25 of Set 1 | jiaojiang\n",
      "Processing Record 26 of Set 1 | georgetown\n",
      "Processing Record 27 of Set 1 | hudiksvall\n",
      "City not found. Skipping\n",
      "Processing Record 28 of Set 1 | ushuaia\n",
      "Processing Record 29 of Set 1 | chumikan\n",
      "Processing Record 30 of Set 1 | punta arenas\n",
      "City not found. Skipping\n",
      "Processing Record 31 of Set 1 | butaritari\n",
      "City not found. Skipping\n",
      "Processing Record 32 of Set 1 | carnarvon\n",
      "Processing Record 33 of Set 1 | qaanaaq\n",
      "City not found. Skipping\n",
      "Processing Record 34 of Set 1 | havelock\n",
      "Processing Record 35 of Set 1 | petropavlovsk-kamchatskiy\n",
      "Processing Record 36 of Set 1 | jamestown\n",
      "Processing Record 37 of Set 1 | skole\n",
      "Processing Record 38 of Set 1 | mar del plata\n",
      "Processing Record 39 of Set 1 | port blair\n",
      "Processing Record 40 of Set 1 | beloha\n",
      "City not found. Skipping\n",
      "Processing Record 41 of Set 1 | shangzhi\n",
      "Processing Record 42 of Set 1 | isangel\n",
      "Processing Record 43 of Set 1 | faanui\n",
      "Processing Record 44 of Set 1 | bubaque\n",
      "Processing Record 45 of Set 1 | fortuna\n",
      "City not found. Skipping\n",
      "Processing Record 46 of Set 1 | nelson bay\n",
      "Processing Record 47 of Set 1 | kaitangata\n",
      "Processing Record 48 of Set 1 | codrington\n",
      "City not found. Skipping\n",
      "Processing Record 49 of Set 1 | castro\n",
      "Processing Record 50 of Set 1 | hithadhoo\n",
      "City not found. Skipping\n",
      "Processing Record 51 of Set 1 | naze\n",
      "City not found. Skipping\n",
      "Processing Record 52 of Set 1 | cape town\n",
      "Processing Record 53 of Set 1 | baijiantan\n",
      "Processing Record 54 of Set 1 | micheweni\n",
      "Processing Record 55 of Set 1 | hilo\n",
      "Processing Record 56 of Set 1 | arraial do cabo\n",
      "City not found. Skipping\n",
      "Processing Record 57 of Set 1 | kilindoni\n",
      "Processing Record 58 of Set 1 | newport\n",
      "Processing Record 59 of Set 1 | hermanus\n",
      "Processing Record 60 of Set 1 | puerto ayora\n",
      "Processing Record 61 of Set 1 | moses lake\n",
      "City not found. Skipping\n",
      "Processing Record 62 of Set 1 | cocobeach\n",
      "Processing Record 63 of Set 1 | san cristobal\n",
      "Processing Record 64 of Set 1 | provideniya\n",
      "Processing Record 65 of Set 1 | ancud\n",
      "Processing Record 66 of Set 1 | leeton\n",
      "Processing Record 67 of Set 1 | atuona\n",
      "Processing Record 68 of Set 1 | hovd\n",
      "Processing Record 69 of Set 1 | vaini\n",
      "Processing Record 70 of Set 1 | katsuura\n",
      "Processing Record 71 of Set 1 | saskylakh\n",
      "Processing Record 72 of Set 1 | waipawa\n",
      "City not found. Skipping\n",
      "City not found. Skipping\n",
      "Processing Record 73 of Set 1 | simbahan\n",
      "Processing Record 74 of Set 1 | rio gallegos\n",
      "Processing Record 75 of Set 1 | xuddur\n",
      "Processing Record 76 of Set 1 | norman wells\n",
      "Processing Record 77 of Set 1 | baherden\n",
      "Processing Record 78 of Set 1 | mingaora\n",
      "Processing Record 79 of Set 1 | lasa\n",
      "Processing Record 80 of Set 1 | nanortalik\n",
      "Processing Record 81 of Set 1 | lagoa\n",
      "Processing Record 82 of Set 1 | husavik\n",
      "Processing Record 83 of Set 1 | aklavik\n",
      "City not found. Skipping\n",
      "Processing Record 84 of Set 1 | tugolesskiy bor\n",
      "City not found. Skipping\n",
      "Processing Record 85 of Set 1 | zhezkazgan\n",
      "Processing Record 86 of Set 1 | chokurdakh\n",
      "Processing Record 87 of Set 1 | biak\n",
      "Processing Record 88 of Set 1 | dingle\n",
      "Processing Record 89 of Set 1 | bambous virieux\n",
      "Processing Record 90 of Set 1 | yulara\n",
      "Processing Record 91 of Set 1 | port alfred\n",
      "Processing Record 92 of Set 1 | saldanha\n",
      "Processing Record 93 of Set 1 | mogadishu\n",
      "Processing Record 94 of Set 1 | kayes\n",
      "Processing Record 95 of Set 1 | nogent-le-rotrou\n",
      "Processing Record 96 of Set 1 | dharchula\n",
      "Processing Record 97 of Set 1 | khasan\n",
      "Processing Record 98 of Set 1 | pangnirtung\n",
      "Processing Record 99 of Set 1 | bredasdorp\n",
      "Processing Record 100 of Set 1 | severo-kurilsk\n",
      "Processing Record 101 of Set 1 | souillac\n",
      "Processing Record 102 of Set 1 | nikolskoye\n",
      "Processing Record 103 of Set 1 | shenjiamen\n",
      "Processing Record 104 of Set 1 | salalah\n",
      "Processing Record 105 of Set 1 | chardara\n",
      "Processing Record 106 of Set 1 | thompson\n",
      "Processing Record 107 of Set 1 | mecca\n",
      "Processing Record 108 of Set 1 | saint-augustin\n",
      "Processing Record 109 of Set 1 | general pico\n",
      "Processing Record 110 of Set 1 | manyana\n",
      "Processing Record 111 of Set 1 | diamantino\n",
      "City not found. Skipping\n",
      "Processing Record 112 of Set 1 | avarua\n",
      "Processing Record 113 of Set 1 | clyde river\n",
      "Processing Record 114 of Set 1 | farafangana\n",
      "Processing Record 115 of Set 1 | cao bang\n",
      "Processing Record 116 of Set 1 | east london\n",
      "Processing Record 117 of Set 1 | kahului\n",
      "City not found. Skipping\n",
      "Processing Record 118 of Set 1 | korisos\n",
      "Processing Record 119 of Set 1 | tuatapere\n",
      "Processing Record 120 of Set 1 | portland\n",
      "Processing Record 121 of Set 1 | hay river\n",
      "Processing Record 122 of Set 1 | buenos aires\n",
      "Processing Record 123 of Set 1 | lebu\n",
      "Processing Record 124 of Set 1 | vanimo\n",
      "Processing Record 125 of Set 1 | sawtell\n",
      "Processing Record 126 of Set 1 | padang\n",
      "Processing Record 127 of Set 1 | juli\n",
      "Processing Record 128 of Set 1 | upernavik\n",
      "Processing Record 129 of Set 1 | comodoro rivadavia\n",
      "Processing Record 130 of Set 1 | khatanga\n",
      "Processing Record 131 of Set 1 | ponta do sol\n",
      "Processing Record 132 of Set 1 | elko\n",
      "Processing Record 133 of Set 1 | port elizabeth\n",
      "Processing Record 134 of Set 1 | soria\n",
      "Processing Record 135 of Set 1 | le port\n",
      "Processing Record 136 of Set 1 | new norfolk\n",
      "Processing Record 137 of Set 1 | nemuro\n",
      "Processing Record 138 of Set 1 | tarakan\n",
      "Processing Record 139 of Set 1 | lafia\n",
      "Processing Record 140 of Set 1 | angoche\n",
      "Processing Record 141 of Set 1 | qaqortoq\n",
      "Processing Record 142 of Set 1 | airai\n",
      "Processing Record 143 of Set 1 | ahipara\n",
      "City not found. Skipping\n",
      "Processing Record 144 of Set 1 | labuhan\n",
      "Processing Record 145 of Set 1 | abrau-dyurso\n",
      "Processing Record 146 of Set 1 | gat\n",
      "Processing Record 147 of Set 1 | cidreira\n",
      "City not found. Skipping\n",
      "Processing Record 148 of Set 1 | mazamari\n",
      "Processing Record 149 of Set 1 | uray\n",
      "Processing Record 150 of Set 1 | pingliang\n",
      "Processing Record 151 of Set 1 | cuorgne\n",
      "Processing Record 152 of Set 1 | geraldton\n",
      "Processing Record 153 of Set 1 | yuli\n",
      "Processing Record 154 of Set 1 | varberg\n",
      "Processing Record 155 of Set 1 | powell river\n",
      "City not found. Skipping\n",
      "Processing Record 156 of Set 1 | harbour breton\n",
      "Processing Record 157 of Set 1 | ternate\n",
      "City not found. Skipping\n",
      "Processing Record 158 of Set 1 | cabo san lucas\n",
      "Processing Record 159 of Set 1 | pisco\n",
      "Processing Record 160 of Set 1 | hamilton\n",
      "Processing Record 161 of Set 1 | ilulissat\n",
      "Processing Record 162 of Set 1 | ligayan\n",
      "Processing Record 163 of Set 1 | bandarbeyla\n",
      "Processing Record 164 of Set 1 | pemberton\n",
      "Processing Record 165 of Set 1 | kieta\n",
      "Processing Record 166 of Set 1 | turukhansk\n",
      "Processing Record 167 of Set 1 | berbera\n",
      "Processing Record 168 of Set 1 | launceston\n",
      "Processing Record 169 of Set 1 | mezen\n",
      "Processing Record 170 of Set 1 | jawhar\n",
      "Processing Record 171 of Set 1 | san quintin\n",
      "Processing Record 172 of Set 1 | prince rupert\n",
      "Processing Record 173 of Set 1 | bluff\n",
      "Processing Record 174 of Set 1 | pauini\n",
      "Processing Record 175 of Set 1 | sao filipe\n",
      "Processing Record 176 of Set 1 | vila velha\n",
      "Processing Record 177 of Set 1 | te anau\n",
      "Processing Record 178 of Set 1 | taos\n"
     ]
    },
    {
     "name": "stdout",
     "output_type": "stream",
     "text": [
      "Processing Record 179 of Set 1 | jiuquan\n",
      "Processing Record 180 of Set 1 | gebre guracha\n",
      "Processing Record 181 of Set 1 | garowe\n",
      "Processing Record 182 of Set 1 | van\n",
      "Processing Record 183 of Set 1 | mosquera\n",
      "Processing Record 184 of Set 1 | horta\n",
      "Processing Record 185 of Set 1 | esperance\n",
      "Processing Record 186 of Set 1 | dawei\n",
      "Processing Record 187 of Set 1 | santo tomas\n",
      "Processing Record 188 of Set 1 | port hardy\n",
      "Processing Record 189 of Set 1 | lazaro cardenas\n",
      "Processing Record 190 of Set 1 | chimbote\n",
      "Processing Record 191 of Set 1 | yatou\n",
      "Processing Record 192 of Set 1 | gazli\n",
      "Processing Record 193 of Set 1 | saint anthony\n",
      "Processing Record 194 of Set 1 | bodden town\n",
      "City not found. Skipping\n",
      "Processing Record 195 of Set 1 | tadine\n",
      "Processing Record 196 of Set 1 | lorengau\n",
      "Processing Record 197 of Set 1 | korla\n",
      "Processing Record 198 of Set 1 | talnakh\n",
      "City not found. Skipping\n",
      "Processing Record 199 of Set 1 | sarankhola\n",
      "Processing Record 200 of Set 1 | grindavik\n",
      "City not found. Skipping\n",
      "Processing Record 201 of Set 1 | tiksi\n",
      "Processing Record 202 of Set 1 | plast\n",
      "City not found. Skipping\n",
      "Processing Record 203 of Set 1 | batagay-alyta\n",
      "Processing Record 204 of Set 1 | morro bay\n",
      "Processing Record 205 of Set 1 | telimele\n",
      "Processing Record 206 of Set 1 | sibolga\n",
      "City not found. Skipping\n",
      "Processing Record 207 of Set 1 | abidjan\n",
      "Processing Record 208 of Set 1 | pacific grove\n",
      "Processing Record 209 of Set 1 | honjo\n",
      "Processing Record 210 of Set 1 | riyadh\n",
      "Processing Record 211 of Set 1 | flinders\n",
      "Processing Record 212 of Set 1 | dubbo\n",
      "Processing Record 213 of Set 1 | arman\n",
      "Processing Record 214 of Set 1 | toba\n",
      "Processing Record 215 of Set 1 | pochutla\n",
      "Processing Record 216 of Set 1 | toucheng\n",
      "Processing Record 217 of Set 1 | leua\n",
      "Processing Record 218 of Set 1 | leningradskiy\n",
      "Processing Record 219 of Set 1 | canguaretama\n",
      "Processing Record 220 of Set 1 | lexington\n",
      "Processing Record 221 of Set 1 | sao felix do xingu\n",
      "Processing Record 222 of Set 1 | detchino\n",
      "Processing Record 223 of Set 1 | los llanos de aridane\n",
      "Processing Record 224 of Set 1 | coquimbo\n",
      "Processing Record 225 of Set 1 | khandyga\n",
      "Processing Record 226 of Set 1 | torbay\n",
      "Processing Record 227 of Set 1 | dunedin\n",
      "Processing Record 228 of Set 1 | bilibino\n",
      "City not found. Skipping\n",
      "Processing Record 229 of Set 1 | roald\n",
      "Processing Record 230 of Set 1 | kodiak\n",
      "Processing Record 231 of Set 1 | minyar\n",
      "Processing Record 232 of Set 1 | hami\n",
      "Processing Record 233 of Set 1 | eyrarbakki\n",
      "Processing Record 234 of Set 1 | ilorin\n",
      "Processing Record 235 of Set 1 | ossora\n",
      "Processing Record 236 of Set 1 | wundanyi\n",
      "Processing Record 237 of Set 1 | bria\n",
      "Processing Record 238 of Set 1 | rivadavia\n",
      "Processing Record 239 of Set 1 | vadgaon\n",
      "Processing Record 240 of Set 1 | nioro\n",
      "Processing Record 241 of Set 1 | bethel\n",
      "Processing Record 242 of Set 1 | praia da vitoria\n",
      "Processing Record 243 of Set 1 | zatoka\n",
      "Processing Record 244 of Set 1 | molina\n",
      "Processing Record 245 of Set 1 | sampit\n",
      "City not found. Skipping\n",
      "Processing Record 246 of Set 1 | sorland\n",
      "Processing Record 247 of Set 1 | kaabong\n",
      "Processing Record 248 of Set 1 | santa cruz\n",
      "Processing Record 249 of Set 1 | kruisfontein\n",
      "City not found. Skipping\n",
      "Processing Record 250 of Set 1 | komsomolskiy\n",
      "Processing Record 251 of Set 1 | coromandel\n",
      "Processing Record 252 of Set 1 | puri\n",
      "Processing Record 253 of Set 1 | barpathar\n",
      "Processing Record 254 of Set 1 | vardo\n",
      "Processing Record 255 of Set 1 | rocha\n",
      "Processing Record 256 of Set 1 | ariquemes\n",
      "Processing Record 257 of Set 1 | jevnaker\n",
      "Processing Record 258 of Set 1 | saint george\n",
      "Processing Record 259 of Set 1 | aste\n",
      "Processing Record 260 of Set 1 | bonfim\n",
      "Processing Record 261 of Set 1 | baghdad\n",
      "Processing Record 262 of Set 1 | saquisili\n",
      "Processing Record 263 of Set 1 | oistins\n",
      "City not found. Skipping\n",
      "Processing Record 264 of Set 1 | shimoda\n",
      "Processing Record 265 of Set 1 | santa rosa\n",
      "City not found. Skipping\n",
      "Processing Record 266 of Set 1 | cockburn town\n",
      "Processing Record 267 of Set 1 | fairbanks\n",
      "Processing Record 268 of Set 1 | bima\n",
      "Processing Record 269 of Set 1 | maun\n",
      "Processing Record 270 of Set 1 | evensk\n",
      "Processing Record 271 of Set 1 | khash\n",
      "Processing Record 272 of Set 1 | tiznit\n",
      "Processing Record 273 of Set 1 | liverpool\n",
      "Processing Record 274 of Set 1 | sitka\n",
      "Processing Record 275 of Set 1 | rawson\n",
      "Processing Record 276 of Set 1 | wawa\n",
      "Processing Record 277 of Set 1 | camacha\n",
      "Processing Record 278 of Set 1 | mercedes\n",
      "Processing Record 279 of Set 1 | velsk\n",
      "Processing Record 280 of Set 1 | minbu\n",
      "Processing Record 281 of Set 1 | kutum\n",
      "Processing Record 282 of Set 1 | koumac\n",
      "Processing Record 283 of Set 1 | yasothon\n",
      "Processing Record 284 of Set 1 | mahina\n",
      "Processing Record 285 of Set 1 | longyearbyen\n",
      "Processing Record 286 of Set 1 | grand gaube\n",
      "Processing Record 287 of Set 1 | pevek\n",
      "Processing Record 288 of Set 1 | nova olimpia\n",
      "Processing Record 289 of Set 1 | andra\n",
      "Processing Record 290 of Set 1 | guerrero negro\n",
      "Processing Record 291 of Set 1 | mwanza\n",
      "Processing Record 292 of Set 1 | ulaanbaatar\n",
      "Processing Record 293 of Set 1 | ariogala\n",
      "Processing Record 294 of Set 1 | shymkent\n",
      "Processing Record 295 of Set 1 | touros\n",
      "Processing Record 296 of Set 1 | makokou\n",
      "Processing Record 297 of Set 1 | puerto ayacucho\n",
      "Processing Record 298 of Set 1 | visnes\n",
      "Processing Record 299 of Set 1 | khor\n",
      "Processing Record 300 of Set 1 | gloversville\n",
      "Processing Record 301 of Set 1 | oyama\n",
      "Processing Record 302 of Set 1 | jiazi\n",
      "Processing Record 303 of Set 1 | mahebourg\n",
      "City not found. Skipping\n",
      "Processing Record 304 of Set 1 | quatre cocos\n",
      "Processing Record 305 of Set 1 | udachnyy\n",
      "Processing Record 306 of Set 1 | ponta delgada\n",
      "Processing Record 307 of Set 1 | longonjo\n",
      "Processing Record 308 of Set 1 | biskamzha\n",
      "Processing Record 309 of Set 1 | maningrida\n",
      "Processing Record 310 of Set 1 | mao\n",
      "Processing Record 311 of Set 1 | homer\n",
      "Processing Record 312 of Set 1 | belle fourche\n",
      "Processing Record 313 of Set 1 | port macquarie\n",
      "Processing Record 314 of Set 1 | gawler\n",
      "Processing Record 315 of Set 1 | buraydah\n",
      "Processing Record 316 of Set 1 | tual\n",
      "Processing Record 317 of Set 1 | cherskiy\n",
      "City not found. Skipping\n",
      "Processing Record 318 of Set 1 | hofn\n",
      "Processing Record 319 of Set 1 | dikson\n",
      "Processing Record 320 of Set 1 | ulaangom\n",
      "Processing Record 321 of Set 1 | srednekolymsk\n",
      "Processing Record 322 of Set 1 | manga\n",
      "Processing Record 323 of Set 1 | wadi maliz\n",
      "Processing Record 324 of Set 1 | juneau\n",
      "Processing Record 325 of Set 1 | zabol\n",
      "Processing Record 326 of Set 1 | juba\n",
      "Processing Record 327 of Set 1 | ulladulla\n",
      "Processing Record 328 of Set 1 | bereda\n",
      "City not found. Skipping\n",
      "City not found. Skipping\n",
      "Processing Record 329 of Set 1 | marienburg\n",
      "Processing Record 330 of Set 1 | port-gentil\n",
      "Processing Record 331 of Set 1 | yenagoa\n",
      "Processing Record 332 of Set 1 | selma\n",
      "Processing Record 333 of Set 1 | kholtoson\n",
      "Processing Record 334 of Set 1 | druzhba\n",
      "Processing Record 335 of Set 1 | berlevag\n",
      "Processing Record 336 of Set 1 | kyaukse\n",
      "Processing Record 337 of Set 1 | nuuk\n",
      "Processing Record 338 of Set 1 | lavrentiya\n",
      "Processing Record 339 of Set 1 | bulalacao\n",
      "Processing Record 340 of Set 1 | atar\n",
      "Processing Record 341 of Set 1 | prabumulih\n",
      "Processing Record 342 of Set 1 | komyshuvakha\n",
      "Processing Record 343 of Set 1 | soyo\n",
      "Processing Record 344 of Set 1 | baruun-urt\n",
      "Processing Record 345 of Set 1 | alvaraes\n",
      "Processing Record 346 of Set 1 | cozumel\n",
      "Processing Record 347 of Set 1 | linxia\n",
      "Processing Record 348 of Set 1 | birao\n",
      "Processing Record 349 of Set 1 | oranjemund\n",
      "Processing Record 350 of Set 1 | cayenne\n",
      "Processing Record 351 of Set 1 | dzerzhinskoye\n",
      "City not found. Skipping\n",
      "Processing Record 352 of Set 1 | strezhevoy\n",
      "Processing Record 353 of Set 1 | san jeronimo\n",
      "Processing Record 354 of Set 1 | peterhead\n",
      "Processing Record 355 of Set 1 | olavarria\n",
      "Processing Record 356 of Set 1 | sicamous\n",
      "Processing Record 357 of Set 1 | dalby\n",
      "Processing Record 358 of Set 1 | san patricio\n",
      "Processing Record 359 of Set 1 | canico\n",
      "Processing Record 360 of Set 1 | petrovsk\n",
      "Processing Record 361 of Set 1 | vao\n",
      "Processing Record 362 of Set 1 | okhotsk\n",
      "Processing Record 363 of Set 1 | mount isa\n",
      "Processing Record 364 of Set 1 | fort nelson\n",
      "Processing Record 365 of Set 1 | bonthe\n"
     ]
    },
    {
     "name": "stdout",
     "output_type": "stream",
     "text": [
      "Processing Record 366 of Set 1 | garwolin\n",
      "Processing Record 367 of Set 1 | methoni\n",
      "Processing Record 368 of Set 1 | kaoma\n",
      "Processing Record 369 of Set 1 | kathu\n",
      "Processing Record 370 of Set 1 | kavieng\n",
      "Processing Record 371 of Set 1 | torquay\n",
      "City not found. Skipping\n",
      "Processing Record 372 of Set 1 | zonguldak\n",
      "Processing Record 373 of Set 1 | zhaozhou\n",
      "Processing Record 374 of Set 1 | maceio\n",
      "Processing Record 375 of Set 1 | cafarnaum\n",
      "Processing Record 376 of Set 1 | roma\n",
      "Processing Record 377 of Set 1 | new ipswich\n",
      "Processing Record 378 of Set 1 | soledad\n",
      "Processing Record 379 of Set 1 | betanzos\n",
      "Processing Record 380 of Set 1 | sept-iles\n",
      "Processing Record 381 of Set 1 | yarmouth\n",
      "Processing Record 382 of Set 1 | wagar\n",
      "Processing Record 383 of Set 1 | faya\n",
      "Processing Record 384 of Set 1 | port lincoln\n",
      "Processing Record 385 of Set 1 | mahibadhoo\n",
      "Processing Record 386 of Set 1 | nara\n",
      "Processing Record 387 of Set 1 | vanavara\n",
      "Processing Record 388 of Set 1 | plettenberg bay\n",
      "City not found. Skipping\n",
      "Processing Record 389 of Set 1 | vostok\n",
      "Processing Record 390 of Set 1 | tucuman\n",
      "Processing Record 391 of Set 1 | gobabis\n",
      "Processing Record 392 of Set 1 | luderitz\n",
      "Processing Record 393 of Set 1 | colares\n",
      "Processing Record 394 of Set 1 | kungurtug\n",
      "Processing Record 395 of Set 1 | westport\n",
      "Processing Record 396 of Set 1 | vestmanna\n",
      "Processing Record 397 of Set 1 | olafsvik\n",
      "Processing Record 398 of Set 1 | independence\n",
      "Processing Record 399 of Set 1 | simitli\n",
      "Processing Record 400 of Set 1 | vitim\n",
      "Processing Record 401 of Set 1 | half moon bay\n",
      "Processing Record 402 of Set 1 | nieuw amsterdam\n",
      "Processing Record 403 of Set 1 | yelnya\n",
      "Processing Record 404 of Set 1 | chekhov\n",
      "Processing Record 405 of Set 1 | aswan\n",
      "Processing Record 406 of Set 1 | mount gambier\n",
      "Processing Record 407 of Set 1 | leh\n",
      "Processing Record 408 of Set 1 | saint-pierre\n",
      "Processing Record 409 of Set 1 | broome\n",
      "Processing Record 410 of Set 1 | mehamn\n",
      "Processing Record 411 of Set 1 | lucea\n",
      "Processing Record 412 of Set 1 | amga\n",
      "Processing Record 413 of Set 1 | talaya\n",
      "Processing Record 414 of Set 1 | smithers\n",
      "Processing Record 415 of Set 1 | pondicherry\n",
      "Processing Record 416 of Set 1 | alice springs\n",
      "Processing Record 417 of Set 1 | clinton\n",
      "Processing Record 418 of Set 1 | prado\n",
      "City not found. Skipping\n",
      "Processing Record 419 of Set 1 | coihaique\n",
      "City not found. Skipping\n",
      "Processing Record 420 of Set 1 | bainbridge\n",
      "Processing Record 421 of Set 1 | russell\n",
      "Processing Record 422 of Set 1 | buala\n",
      "Processing Record 423 of Set 1 | burns lake\n",
      "Processing Record 424 of Set 1 | atambua\n",
      "Processing Record 425 of Set 1 | siderno\n",
      "Processing Record 426 of Set 1 | bayir\n",
      "Processing Record 427 of Set 1 | lompoc\n",
      "Processing Record 428 of Set 1 | wakkanai\n",
      "Processing Record 429 of Set 1 | kloulklubed\n",
      "Processing Record 430 of Set 1 | las choapas\n",
      "Processing Record 431 of Set 1 | santa maria do suacui\n",
      "Processing Record 432 of Set 1 | calbuco\n",
      "Processing Record 433 of Set 1 | kununurra\n",
      "Processing Record 434 of Set 1 | zhifang\n",
      "Processing Record 435 of Set 1 | broken hill\n",
      "City not found. Skipping\n",
      "Processing Record 436 of Set 1 | banjar\n",
      "Processing Record 437 of Set 1 | maniitsoq\n",
      "City not found. Skipping\n",
      "Processing Record 438 of Set 1 | olinda\n",
      "Processing Record 439 of Set 1 | puerto colombia\n",
      "Processing Record 440 of Set 1 | ripoll\n",
      "Processing Record 441 of Set 1 | stephenville\n",
      "Processing Record 442 of Set 1 | watertown\n",
      "Processing Record 443 of Set 1 | palmital\n",
      "Processing Record 444 of Set 1 | sistranda\n",
      "Processing Record 445 of Set 1 | conde\n",
      "Processing Record 446 of Set 1 | popondetta\n",
      "Processing Record 447 of Set 1 | diego de almagro\n",
      "Processing Record 448 of Set 1 | anito\n",
      "Processing Record 449 of Set 1 | salinas\n",
      "Processing Record 450 of Set 1 | mayo\n",
      "Processing Record 451 of Set 1 | zhigansk\n",
      "Processing Record 452 of Set 1 | peleduy\n",
      "Processing Record 453 of Set 1 | narsaq\n",
      "Processing Record 454 of Set 1 | sioux lookout\n",
      "Processing Record 455 of Set 1 | lubango\n",
      "Processing Record 456 of Set 1 | magadan\n",
      "Processing Record 457 of Set 1 | santiago\n",
      "City not found. Skipping\n",
      "Processing Record 458 of Set 1 | wufeng\n",
      "Processing Record 459 of Set 1 | kirakira\n",
      "Processing Record 460 of Set 1 | lalmohan\n",
      "Processing Record 461 of Set 1 | abu dhabi\n",
      "Processing Record 462 of Set 1 | suntar\n",
      "City not found. Skipping\n",
      "Processing Record 463 of Set 1 | tamuin\n",
      "Processing Record 464 of Set 1 | puerto del rosario\n",
      "Processing Record 465 of Set 1 | florianopolis\n",
      "Processing Record 466 of Set 1 | panguiranan\n",
      "Processing Record 467 of Set 1 | agadir\n",
      "Processing Record 468 of Set 1 | sydney\n",
      "Processing Record 469 of Set 1 | ndele\n",
      "Processing Record 470 of Set 1 | kovylkino\n",
      "Processing Record 471 of Set 1 | miri\n",
      "City not found. Skipping\n",
      "City not found. Skipping\n",
      "Processing Record 472 of Set 1 | matara\n",
      "City not found. Skipping\n",
      "Processing Record 473 of Set 1 | thyboron\n",
      "Processing Record 474 of Set 1 | abha\n",
      "Processing Record 475 of Set 1 | luangwa\n",
      "Processing Record 476 of Set 1 | caravelas\n",
      "Processing Record 477 of Set 1 | dormidontovka\n",
      "Processing Record 478 of Set 1 | laela\n",
      "Processing Record 479 of Set 1 | porto novo\n",
      "Processing Record 480 of Set 1 | minab\n",
      "Processing Record 481 of Set 1 | balad\n",
      "Processing Record 482 of Set 1 | ginda\n",
      "Processing Record 483 of Set 1 | tucupita\n",
      "Processing Record 484 of Set 1 | tucumcari\n",
      "Processing Record 485 of Set 1 | takoradi\n",
      "Processing Record 486 of Set 1 | pafos\n",
      "Processing Record 487 of Set 1 | batagay\n",
      "Processing Record 488 of Set 1 | podgorodnyaya pokrovka\n",
      "Processing Record 489 of Set 1 | ust-kuyga\n",
      "Processing Record 490 of Set 1 | bianzhuang\n",
      "Processing Record 491 of Set 1 | mattru\n",
      "Processing Record 492 of Set 1 | san carlos de bariloche\n",
      "Processing Record 493 of Set 1 | eyl\n",
      "Processing Record 494 of Set 1 | ocampo\n",
      "Processing Record 495 of Set 1 | vega de alatorre\n",
      "Processing Record 496 of Set 1 | umm lajj\n",
      "Processing Record 497 of Set 1 | kommunar\n",
      "City not found. Skipping\n",
      "Processing Record 498 of Set 1 | cleveland\n",
      "Processing Record 499 of Set 1 | rota\n",
      "Processing Record 500 of Set 1 | marawi\n",
      "Processing Record 501 of Set 1 | opuwo\n",
      "Processing Record 502 of Set 1 | helena\n",
      "Processing Record 503 of Set 1 | gilgit\n",
      "Processing Record 504 of Set 1 | manggar\n",
      "City not found. Skipping\n",
      "Processing Record 505 of Set 1 | kantang\n",
      "Processing Record 506 of Set 1 | huangchuan\n",
      "Processing Record 507 of Set 1 | vigrestad\n",
      "Processing Record 508 of Set 1 | waldoboro\n",
      "Processing Record 509 of Set 1 | warrnambool\n",
      "City not found. Skipping\n",
      "City not found. Skipping\n",
      "Processing Record 510 of Set 1 | sinazongwe\n",
      "Processing Record 511 of Set 1 | cadillac\n",
      "Processing Record 512 of Set 1 | kargasok\n",
      "Processing Record 513 of Set 1 | vangaindrano\n",
      "Processing Record 514 of Set 1 | amahai\n",
      "Processing Record 515 of Set 1 | ahuimanu\n",
      "Processing Record 516 of Set 1 | moose factory\n",
      "Processing Record 517 of Set 1 | palmer\n",
      "Processing Record 518 of Set 1 | mayumba\n",
      "Processing Record 519 of Set 1 | viedma\n",
      "Processing Record 520 of Set 1 | turbat\n",
      "Processing Record 521 of Set 1 | tairua\n",
      "Processing Record 522 of Set 1 | ambatofinandrahana\n",
      "Processing Record 523 of Set 1 | sweetwater\n",
      "Processing Record 524 of Set 1 | khanskaya\n",
      "Processing Record 525 of Set 1 | chateauroux\n",
      "Processing Record 526 of Set 1 | ambanja\n",
      "Processing Record 527 of Set 1 | antas\n",
      "Processing Record 528 of Set 1 | muscat\n",
      "Processing Record 529 of Set 1 | nikki\n",
      "Processing Record 530 of Set 1 | haines junction\n",
      "Processing Record 531 of Set 1 | halifax\n",
      "Processing Record 532 of Set 1 | matay\n",
      "Processing Record 533 of Set 1 | lucapa\n"
     ]
    }
   ],
   "source": [
    "#create url for query \n",
    "#api.openweathermap.org/data/2.5/weather?q={city name}&appid={API key}\n",
    "url = \"http://api.openweathermap.org/data/2.5/weather?\"\n",
    "units = \"imperial\"\n",
    "query_url = f\"{url}appid={weather_api_key}&units={units}&q=\"\n",
    "print(query_url)\n",
    "\n",
    "\n",
    "\n",
    "#lists to hold response info\n",
    "city_name = []\n",
    "lat = []\n",
    "lon = []\n",
    "max_temp = []\n",
    "humidity = []\n",
    "cloudy = []\n",
    "wspeed = []\n",
    "country = []\n",
    "date = []\n",
    "city_count = 0 \n",
    "city_set = 1 \n",
    "\n",
    "#Loop through the list of cities and perform a request for data on each\n",
    "for city in cities:\n",
    "    \n",
    "    try:  \n",
    "        response = requests.get(query_url + city).json()  \n",
    "        city_name.append(response[\"name\"])\n",
    "        lat.append(response['coord']['lat'])\n",
    "        lon.append(response['coord']['lon'])\n",
    "        max_temp.append(response['main']['temp_max'])\n",
    "        humidity.append(response['main']['humidity'])\n",
    "        cloudy.append(response['clouds']['all'])\n",
    "        wspeed.append(response['wind']['speed'])\n",
    "        country.append(response['sys']['country'])\n",
    "        date.append(response['dt'])\n",
    "        city_count +=1\n",
    "    \n",
    "        print(f\"Processing Record {city_count} of Set {city_set} | {city}\")\n",
    "    except:\n",
    "        print('City not found. Skipping')\n",
    "    \n",
    "\n",
    "\n"
   ]
  },
  {
   "cell_type": "markdown",
   "metadata": {},
   "source": [
    "### Convert Raw Data to DataFrame\n",
    "* Export the city data into a .csv.\n",
    "* Display the DataFrame"
   ]
  },
  {
   "cell_type": "code",
   "execution_count": 49,
   "metadata": {},
   "outputs": [
    {
     "data": {
      "text/html": [
       "<div>\n",
       "<style scoped>\n",
       "    .dataframe tbody tr th:only-of-type {\n",
       "        vertical-align: middle;\n",
       "    }\n",
       "\n",
       "    .dataframe tbody tr th {\n",
       "        vertical-align: top;\n",
       "    }\n",
       "\n",
       "    .dataframe thead th {\n",
       "        text-align: right;\n",
       "    }\n",
       "</style>\n",
       "<table border=\"1\" class=\"dataframe\">\n",
       "  <thead>\n",
       "    <tr style=\"text-align: right;\">\n",
       "      <th></th>\n",
       "      <th>Cities</th>\n",
       "      <th>Latitude</th>\n",
       "      <th>Longitude</th>\n",
       "      <th>Max_temp</th>\n",
       "      <th>Humidity</th>\n",
       "      <th>Cloudy</th>\n",
       "      <th>Date</th>\n",
       "      <th>Country</th>\n",
       "      <th>Wind</th>\n",
       "    </tr>\n",
       "  </thead>\n",
       "  <tbody>\n",
       "    <tr>\n",
       "      <th>0</th>\n",
       "      <td>Yerbogachën</td>\n",
       "      <td>61.2767</td>\n",
       "      <td>108.0108</td>\n",
       "      <td>40.75</td>\n",
       "      <td>90</td>\n",
       "      <td>100</td>\n",
       "      <td>1630873609</td>\n",
       "      <td>RU</td>\n",
       "      <td>6.02</td>\n",
       "    </tr>\n",
       "    <tr>\n",
       "      <th>1</th>\n",
       "      <td>Kavaratti</td>\n",
       "      <td>10.5669</td>\n",
       "      <td>72.6420</td>\n",
       "      <td>81.43</td>\n",
       "      <td>78</td>\n",
       "      <td>100</td>\n",
       "      <td>1630873610</td>\n",
       "      <td>IN</td>\n",
       "      <td>16.42</td>\n",
       "    </tr>\n",
       "    <tr>\n",
       "      <th>2</th>\n",
       "      <td>Wanning</td>\n",
       "      <td>18.8003</td>\n",
       "      <td>110.3967</td>\n",
       "      <td>79.81</td>\n",
       "      <td>86</td>\n",
       "      <td>61</td>\n",
       "      <td>1630873610</td>\n",
       "      <td>CN</td>\n",
       "      <td>0.36</td>\n",
       "    </tr>\n",
       "    <tr>\n",
       "      <th>3</th>\n",
       "      <td>Hobart</td>\n",
       "      <td>-42.8794</td>\n",
       "      <td>147.3294</td>\n",
       "      <td>46.26</td>\n",
       "      <td>65</td>\n",
       "      <td>20</td>\n",
       "      <td>1630873611</td>\n",
       "      <td>AU</td>\n",
       "      <td>1.99</td>\n",
       "    </tr>\n",
       "    <tr>\n",
       "      <th>4</th>\n",
       "      <td>São João da Barra</td>\n",
       "      <td>-21.6403</td>\n",
       "      <td>-41.0511</td>\n",
       "      <td>75.29</td>\n",
       "      <td>83</td>\n",
       "      <td>77</td>\n",
       "      <td>1630873611</td>\n",
       "      <td>BR</td>\n",
       "      <td>11.99</td>\n",
       "    </tr>\n",
       "    <tr>\n",
       "      <th>...</th>\n",
       "      <td>...</td>\n",
       "      <td>...</td>\n",
       "      <td>...</td>\n",
       "      <td>...</td>\n",
       "      <td>...</td>\n",
       "      <td>...</td>\n",
       "      <td>...</td>\n",
       "      <td>...</td>\n",
       "      <td>...</td>\n",
       "    </tr>\n",
       "    <tr>\n",
       "      <th>528</th>\n",
       "      <td>Nikki</td>\n",
       "      <td>9.9401</td>\n",
       "      <td>3.2108</td>\n",
       "      <td>73.62</td>\n",
       "      <td>90</td>\n",
       "      <td>100</td>\n",
       "      <td>1630873837</td>\n",
       "      <td>BJ</td>\n",
       "      <td>1.52</td>\n",
       "    </tr>\n",
       "    <tr>\n",
       "      <th>529</th>\n",
       "      <td>Haines Junction</td>\n",
       "      <td>60.7522</td>\n",
       "      <td>-137.5108</td>\n",
       "      <td>58.95</td>\n",
       "      <td>63</td>\n",
       "      <td>100</td>\n",
       "      <td>1630873838</td>\n",
       "      <td>CA</td>\n",
       "      <td>1.14</td>\n",
       "    </tr>\n",
       "    <tr>\n",
       "      <th>530</th>\n",
       "      <td>Halifax</td>\n",
       "      <td>44.6453</td>\n",
       "      <td>-63.5724</td>\n",
       "      <td>65.52</td>\n",
       "      <td>72</td>\n",
       "      <td>96</td>\n",
       "      <td>1630873747</td>\n",
       "      <td>CA</td>\n",
       "      <td>8.05</td>\n",
       "    </tr>\n",
       "    <tr>\n",
       "      <th>531</th>\n",
       "      <td>Maţāy</td>\n",
       "      <td>28.4190</td>\n",
       "      <td>30.7792</td>\n",
       "      <td>79.70</td>\n",
       "      <td>47</td>\n",
       "      <td>0</td>\n",
       "      <td>1630873838</td>\n",
       "      <td>EG</td>\n",
       "      <td>16.02</td>\n",
       "    </tr>\n",
       "    <tr>\n",
       "      <th>532</th>\n",
       "      <td>Lucapa</td>\n",
       "      <td>-8.4192</td>\n",
       "      <td>20.7447</td>\n",
       "      <td>73.85</td>\n",
       "      <td>64</td>\n",
       "      <td>69</td>\n",
       "      <td>1630873839</td>\n",
       "      <td>AO</td>\n",
       "      <td>4.05</td>\n",
       "    </tr>\n",
       "  </tbody>\n",
       "</table>\n",
       "<p>533 rows × 9 columns</p>\n",
       "</div>"
      ],
      "text/plain": [
       "                Cities  Latitude  Longitude  Max_temp  Humidity  Cloudy  \\\n",
       "0          Yerbogachën   61.2767   108.0108     40.75        90     100   \n",
       "1            Kavaratti   10.5669    72.6420     81.43        78     100   \n",
       "2              Wanning   18.8003   110.3967     79.81        86      61   \n",
       "3               Hobart  -42.8794   147.3294     46.26        65      20   \n",
       "4    São João da Barra  -21.6403   -41.0511     75.29        83      77   \n",
       "..                 ...       ...        ...       ...       ...     ...   \n",
       "528              Nikki    9.9401     3.2108     73.62        90     100   \n",
       "529    Haines Junction   60.7522  -137.5108     58.95        63     100   \n",
       "530            Halifax   44.6453   -63.5724     65.52        72      96   \n",
       "531              Maţāy   28.4190    30.7792     79.70        47       0   \n",
       "532             Lucapa   -8.4192    20.7447     73.85        64      69   \n",
       "\n",
       "           Date Country   Wind  \n",
       "0    1630873609      RU   6.02  \n",
       "1    1630873610      IN  16.42  \n",
       "2    1630873610      CN   0.36  \n",
       "3    1630873611      AU   1.99  \n",
       "4    1630873611      BR  11.99  \n",
       "..          ...     ...    ...  \n",
       "528  1630873837      BJ   1.52  \n",
       "529  1630873838      CA   1.14  \n",
       "530  1630873747      CA   8.05  \n",
       "531  1630873838      EG  16.02  \n",
       "532  1630873839      AO   4.05  \n",
       "\n",
       "[533 rows x 9 columns]"
      ]
     },
     "execution_count": 49,
     "metadata": {},
     "output_type": "execute_result"
    }
   ],
   "source": [
    "# create a dataframe from cities, and corresponding data from api\n",
    "weather_data = ({\n",
    "    \"Cities\": city_name,\n",
    "    \"Latitude\": lat,\n",
    "    \"Longitude\": lon,\n",
    "    \"Max_temp\": max_temp,\n",
    "    \"Humidity\": humidity, \n",
    "    \"Cloudy\": cloudy,\n",
    "    \"Date\": date,\n",
    "    \"Country\": country,\n",
    "    \"Wind\" : wspeed\n",
    "})\n",
    "weather_data = pd.DataFrame(weather_data)\n",
    "weather_data\n",
    "\n"
   ]
  },
  {
   "cell_type": "code",
   "execution_count": 50,
   "metadata": {},
   "outputs": [],
   "source": [
    "#df.to_csv(r'Path where you want to store the exported CSV file\\File Name.csv', index = False)\n",
    "\n",
    "weather_data.to_csv(r'\\outweatherdata.csv', index = False)\n"
   ]
  },
  {
   "cell_type": "markdown",
   "metadata": {},
   "source": [
    "## Inspect the data and remove the cities where the humidity > 100%.\n",
    "----\n",
    "Skip this step if there are no cities that have humidity > 100%. "
   ]
  },
  {
   "cell_type": "code",
   "execution_count": 52,
   "metadata": {
    "scrolled": true
   },
   "outputs": [
    {
     "data": {
      "text/html": [
       "<div>\n",
       "<style scoped>\n",
       "    .dataframe tbody tr th:only-of-type {\n",
       "        vertical-align: middle;\n",
       "    }\n",
       "\n",
       "    .dataframe tbody tr th {\n",
       "        vertical-align: top;\n",
       "    }\n",
       "\n",
       "    .dataframe thead th {\n",
       "        text-align: right;\n",
       "    }\n",
       "</style>\n",
       "<table border=\"1\" class=\"dataframe\">\n",
       "  <thead>\n",
       "    <tr style=\"text-align: right;\">\n",
       "      <th></th>\n",
       "      <th>Latitude</th>\n",
       "      <th>Longitude</th>\n",
       "      <th>Max_temp</th>\n",
       "      <th>Humidity</th>\n",
       "      <th>Cloudy</th>\n",
       "      <th>Date</th>\n",
       "      <th>Wind</th>\n",
       "    </tr>\n",
       "  </thead>\n",
       "  <tbody>\n",
       "    <tr>\n",
       "      <th>count</th>\n",
       "      <td>533.000000</td>\n",
       "      <td>533.000000</td>\n",
       "      <td>533.000000</td>\n",
       "      <td>533.000000</td>\n",
       "      <td>533.000000</td>\n",
       "      <td>5.330000e+02</td>\n",
       "      <td>533.000000</td>\n",
       "    </tr>\n",
       "    <tr>\n",
       "      <th>mean</th>\n",
       "      <td>19.267910</td>\n",
       "      <td>20.855595</td>\n",
       "      <td>66.595084</td>\n",
       "      <td>70.960600</td>\n",
       "      <td>53.356473</td>\n",
       "      <td>1.630874e+09</td>\n",
       "      <td>7.575966</td>\n",
       "    </tr>\n",
       "    <tr>\n",
       "      <th>std</th>\n",
       "      <td>33.833498</td>\n",
       "      <td>90.373248</td>\n",
       "      <td>15.806466</td>\n",
       "      <td>20.355588</td>\n",
       "      <td>39.468181</td>\n",
       "      <td>8.861025e+01</td>\n",
       "      <td>5.285115</td>\n",
       "    </tr>\n",
       "    <tr>\n",
       "      <th>min</th>\n",
       "      <td>-54.800000</td>\n",
       "      <td>-175.200000</td>\n",
       "      <td>11.710000</td>\n",
       "      <td>4.000000</td>\n",
       "      <td>0.000000</td>\n",
       "      <td>1.630873e+09</td>\n",
       "      <td>0.000000</td>\n",
       "    </tr>\n",
       "    <tr>\n",
       "      <th>25%</th>\n",
       "      <td>-8.466700</td>\n",
       "      <td>-59.950000</td>\n",
       "      <td>54.010000</td>\n",
       "      <td>62.000000</td>\n",
       "      <td>11.000000</td>\n",
       "      <td>1.630874e+09</td>\n",
       "      <td>3.530000</td>\n",
       "    </tr>\n",
       "    <tr>\n",
       "      <th>50%</th>\n",
       "      <td>22.877900</td>\n",
       "      <td>23.466700</td>\n",
       "      <td>70.200000</td>\n",
       "      <td>76.000000</td>\n",
       "      <td>60.000000</td>\n",
       "      <td>1.630874e+09</td>\n",
       "      <td>6.170000</td>\n",
       "    </tr>\n",
       "    <tr>\n",
       "      <th>75%</th>\n",
       "      <td>47.130100</td>\n",
       "      <td>103.206400</td>\n",
       "      <td>78.390000</td>\n",
       "      <td>86.000000</td>\n",
       "      <td>95.000000</td>\n",
       "      <td>1.630874e+09</td>\n",
       "      <td>10.360000</td>\n",
       "    </tr>\n",
       "    <tr>\n",
       "      <th>max</th>\n",
       "      <td>78.218600</td>\n",
       "      <td>178.416700</td>\n",
       "      <td>104.340000</td>\n",
       "      <td>100.000000</td>\n",
       "      <td>100.000000</td>\n",
       "      <td>1.630874e+09</td>\n",
       "      <td>28.880000</td>\n",
       "    </tr>\n",
       "  </tbody>\n",
       "</table>\n",
       "</div>"
      ],
      "text/plain": [
       "         Latitude   Longitude    Max_temp    Humidity      Cloudy  \\\n",
       "count  533.000000  533.000000  533.000000  533.000000  533.000000   \n",
       "mean    19.267910   20.855595   66.595084   70.960600   53.356473   \n",
       "std     33.833498   90.373248   15.806466   20.355588   39.468181   \n",
       "min    -54.800000 -175.200000   11.710000    4.000000    0.000000   \n",
       "25%     -8.466700  -59.950000   54.010000   62.000000   11.000000   \n",
       "50%     22.877900   23.466700   70.200000   76.000000   60.000000   \n",
       "75%     47.130100  103.206400   78.390000   86.000000   95.000000   \n",
       "max     78.218600  178.416700  104.340000  100.000000  100.000000   \n",
       "\n",
       "               Date        Wind  \n",
       "count  5.330000e+02  533.000000  \n",
       "mean   1.630874e+09    7.575966  \n",
       "std    8.861025e+01    5.285115  \n",
       "min    1.630873e+09    0.000000  \n",
       "25%    1.630874e+09    3.530000  \n",
       "50%    1.630874e+09    6.170000  \n",
       "75%    1.630874e+09   10.360000  \n",
       "max    1.630874e+09   28.880000  "
      ]
     },
     "execution_count": 52,
     "metadata": {},
     "output_type": "execute_result"
    }
   ],
   "source": [
    "weather_data.describe()\n"
   ]
  },
  {
   "cell_type": "markdown",
   "metadata": {},
   "source": [
    "## Plotting the Data\n",
    "* Use proper labeling of the plots using plot titles (including date of analysis) and axes labels.\n",
    "* Save the plotted figures as .pngs."
   ]
  },
  {
   "cell_type": "markdown",
   "metadata": {},
   "source": [
    "## Latitude vs. Temperature Plot"
   ]
  },
  {
   "cell_type": "code",
   "execution_count": 56,
   "metadata": {
    "scrolled": true
   },
   "outputs": [
    {
     "data": {
      "image/png": "[encoded data removed]",
      "text/plain": [
       "<Figure size 432x288 with 1 Axes>"
      ]
     },
     "metadata": {
      "needs_background": "light"
     },
     "output_type": "display_data"
    }
   ],
   "source": [
    "#plotting latitude versus temperature \n",
    "plt.scatter(weather_data[\"Latitude\"], weather_data[\"Max_temp\"], facecolors=\"blue\", edgecolor=\"black\")\n",
    "\n",
    "#Title\n",
    "plt.title(\"City Latitude vs. Max Temperature on 9/5/21\")\n",
    "\n",
    "# x axis label\n",
    "plt.xlabel(\"Latitude\")\n",
    "\n",
    "# y axis label\n",
    "plt.ylabel(\"Max Temperature\")\n",
    "\n",
    "# grid lines\n",
    "plt.grid(linestyle='-', linewidth=.5)\n",
    "\n",
    "plt.savefig(\"lattemp.png\")\n",
    "  \n",
    "plt.show()"
   ]
  },
  {
   "cell_type": "markdown",
   "metadata": {},
   "source": [
    "## Latitude vs. Humidity Plot"
   ]
  },
  {
   "cell_type": "code",
   "execution_count": 57,
   "metadata": {},
   "outputs": [
    {
     "data": {
      "image/png": "[encoded data removed]",
      "text/plain": [
       "<Figure size 432x288 with 1 Axes>"
      ]
     },
     "metadata": {
      "needs_background": "light"
     },
     "output_type": "display_data"
    }
   ],
   "source": [
    "#plotting latitude versus temperature \n",
    "plt.scatter(weather_data[\"Latitude\"], weather_data[\"Humidity\"], facecolors=\"blue\", edgecolor=\"black\")\n",
    "\n",
    "#Title\n",
    "plt.title(\"City Latitude vs.Humidity on 9/5/21\")\n",
    "\n",
    "# x axis label\n",
    "plt.xlabel(\"Latitude\")\n",
    "\n",
    "# y axis label\n",
    "plt.ylabel(\"Humidity\")\n",
    "\n",
    "# grid lines\n",
    "plt.grid(linestyle='-', linewidth=.5)\n",
    "\n",
    "plt.savefig(\"lathumid.png\")\n",
    "  \n",
    "plt.show()"
   ]
  },
  {
   "cell_type": "markdown",
   "metadata": {},
   "source": [
    "## Latitude vs. Cloudiness Plot"
   ]
  },
  {
   "cell_type": "code",
   "execution_count": 96,
   "metadata": {},
   "outputs": [
    {
     "data": {
      "image/png": "[encoded data removed]",
      "text/plain": [
       "<Figure size 432x288 with 1 Axes>"
      ]
     },
     "metadata": {
      "needs_background": "light"
     },
     "output_type": "display_data"
    }
   ],
   "source": [
    "#plotting latitude versus temperature \n",
    "plt.scatter(weather_data[\"Latitude\"], weather_data[\"Cloudy\"], facecolors=\"blue\", edgecolor=\"black\")\n",
    "\n",
    "#Title\n",
    "plt.title(\"City Latitude vs. Cloudiness on 9/5/21\")\n",
    "\n",
    "# x axis label\n",
    "plt.xlabel(\"Latitude\")\n",
    "\n",
    "# y axis label\n",
    "plt.ylabel(\"Cloudiness (%)\")\n",
    "\n",
    "# grid lines\n",
    "plt.grid(linestyle='-', linewidth=.5)\n",
    "\n",
    "plt.savefig(\"latcloudy.png\")\n",
    "  \n",
    "plt.show()"
   ]
  },
  {
   "cell_type": "markdown",
   "metadata": {},
   "source": [
    "## Latitude vs. Wind Speed Plot"
   ]
  },
  {
   "cell_type": "code",
   "execution_count": 150,
   "metadata": {},
   "outputs": [
    {
     "data": {
      "image/png": "[encoded data removed]",
      "text/plain": [
       "<Figure size 432x288 with 1 Axes>"
      ]
     },
     "metadata": {
      "needs_background": "light"
     },
     "output_type": "display_data"
    }
   ],
   "source": [
    "#plotting latitude versus temperature \n",
    "plt.scatter(weather_data[\"Latitude\"], weather_data[\"Wind\"], facecolors=\"blue\", edgecolor=\"black\")\n",
    "\n",
    "#Title\n",
    "plt.title(\"City Latitude vs. Wind on 9/5/21\")\n",
    "\n",
    "# x axis label\n",
    "plt.xlabel(\"Latitude\")\n",
    "\n",
    "# y axis label\n",
    "plt.ylabel(\"Wind\")\n",
    "\n",
    "# grid lines\n",
    "plt.grid(linestyle='-', linewidth=.5)\n",
    "\n",
    "plt.savefig(\"latwind.png\")\n",
    "  \n",
    "plt.show()"
   ]
  },
  {
   "cell_type": "markdown",
   "metadata": {},
   "source": [
    "## Linear Regression"
   ]
  },
  {
   "cell_type": "code",
   "execution_count": 151,
   "metadata": {},
   "outputs": [],
   "source": [
    "# Add the linear regression equation and line to plot\n",
    "\n",
    "def linear_regression(x,y): \n",
    "    (slope, intercept, rvalue, pvalue, stderr) = linregress(x, y)\n",
    "    regress_values = x * slope + intercept\n",
    "    line_eq = \"y = \" + str(round(slope,2)) + \"x + \" + str(round(intercept,2))\n",
    "    plt.scatter(x, y)\n",
    "    plt.plot(x,regress_values,\"r-\")\n",
    "    print(f\"The r-value is: {rvalue**2}\")\n",
    "    return line_eq\n",
    "\n",
    "def annotate(line_eq, a, b):\n",
    "    plt.annotate(line_eq,(a,b), fontsize=15, color= \"red\")\n",
    "    \n",
    "\n",
    "n_hemisphere = weather_data.loc[(weather_data['Latitude']>=0)]\n",
    "s_hemisphere = weather_data.loc[(weather_data['Latitude']<0)]"
   ]
  },
  {
   "cell_type": "markdown",
   "metadata": {},
   "source": [
    "####  Northern Hemisphere - Max Temp vs. Latitude Linear Regression"
   ]
  },
  {
   "cell_type": "code",
   "execution_count": 167,
   "metadata": {},
   "outputs": [
    {
     "name": "stdout",
     "output_type": "stream",
     "text": [
      "The r-value is: 0.5442659660188918\n"
     ]
    },
    {
     "data": {
      "image/png": "[encoded data removed]",
      "text/plain": [
       "<Figure size 432x288 with 1 Axes>"
      ]
     },
     "metadata": {
      "needs_background": "light"
     },
     "output_type": "display_data"
    }
   ],
   "source": [
    "#calculate r-value for Northern Hemisphere\n",
    "output = linear_regression(n_hemisphere[\"Latitude\"], n_hemisphere[\"Max_temp\"])\n",
    "annotate(output, 0, 0)\n",
    "\n",
    "#title, x and y labels\n",
    "plt.title(\"Northern Hemisphere- Max Temp vs Latitude Linear Regression\")\n",
    "plt.xlabel(\"Latitude\")\n",
    "plt.ylabel(\"Max Temp (F)\")\n",
    "plt.savefig(\"NHmaxtemp.png\")\n",
    "plt.show()\n"
   ]
  },
  {
   "cell_type": "markdown",
   "metadata": {},
   "source": [
    "####  Southern Hemisphere - Max Temp vs. Latitude Linear Regression"
   ]
  },
  {
   "cell_type": "code",
   "execution_count": 168,
   "metadata": {},
   "outputs": [
    {
     "name": "stdout",
     "output_type": "stream",
     "text": [
      "The r-value is: 0.49967870564867767\n"
     ]
    },
    {
     "data": {
      "image/png": "[encoded data removed]",
      "text/plain": [
       "<Figure size 432x288 with 1 Axes>"
      ]
     },
     "metadata": {
      "needs_background": "light"
     },
     "output_type": "display_data"
    }
   ],
   "source": [
    "#calculate r-value for Southern Hemisphere\n",
    "output = linear_regression(s_hemisphere[\"Latitude\"], s_hemisphere[\"Max_temp\"])\n",
    "annotate(output, 0, 0)\n",
    "\n",
    "#title, x and y labels\n",
    "plt.title(\"Southern Hemisphere- Max Temp vs Latitude Linear Regression\")\n",
    "plt.xlabel(\"Latitude\")\n",
    "plt.ylabel(\"Max Temp (F)\")\n",
    "plt.savefig(\"SHmaxtemp.png\")\n",
    "plt.show()"
   ]
  },
  {
   "cell_type": "markdown",
   "metadata": {},
   "source": [
    "####  Northern Hemisphere - Humidity (%) vs. Latitude Linear Regression"
   ]
  },
  {
   "cell_type": "code",
   "execution_count": 169,
   "metadata": {},
   "outputs": [
    {
     "name": "stdout",
     "output_type": "stream",
     "text": [
      "The r-value is: 0.00022999149102965634\n"
     ]
    },
    {
     "data": {
      "image/png": "[encoded data removed]",
      "text/plain": [
       "<Figure size 432x288 with 1 Axes>"
      ]
     },
     "metadata": {
      "needs_background": "light"
     },
     "output_type": "display_data"
    }
   ],
   "source": [
    "#calculate r-value for Northern Hemisphere\n",
    "output = linear_regression(n_hemisphere[\"Latitude\"], n_hemisphere[\"Humidity\"])\n",
    "annotate(output, 0, 0)\n",
    "\n",
    "#title, x and y labels\n",
    "plt.title(\"Northern Hemisphere- Humidity vs Latitude Linear Regression\")\n",
    "plt.xlabel(\"Latitude\")\n",
    "plt.ylabel(\"Humidity\")\n",
    "plt.savefig(\"NHhumid.png\")\n",
    "plt.show()"
   ]
  },
  {
   "cell_type": "markdown",
   "metadata": {},
   "source": [
    "####  Southern Hemisphere - Humidity (%) vs. Latitude Linear Regression"
   ]
  },
  {
   "cell_type": "code",
   "execution_count": 170,
   "metadata": {},
   "outputs": [
    {
     "name": "stdout",
     "output_type": "stream",
     "text": [
      "The r-value is: 0.011816304944694682\n"
     ]
    },
    {
     "data": {
      "image/png": "[encoded data removed]",
      "text/plain": [
       "<Figure size 432x288 with 1 Axes>"
      ]
     },
     "metadata": {
      "needs_background": "light"
     },
     "output_type": "display_data"
    }
   ],
   "source": [
    "#calculate r-value for Southern Hemisphere\n",
    "output = linear_regression(s_hemisphere[\"Latitude\"], s_hemisphere[\"Humidity\"])\n",
    "annotate(output, 0, 0)\n",
    "\n",
    "#title, x and y labels\n",
    "plt.title(\"Southern Hemisphere- Humidity vs Latitude Linear Regression\")\n",
    "plt.xlabel(\"Latitude\")\n",
    "plt.ylabel(\"Humidity\")\n",
    "plt.savefig(\"SHhumid.png\")\n",
    "plt.show()"
   ]
  },
  {
   "cell_type": "markdown",
   "metadata": {},
   "source": [
    "####  Northern Hemisphere - Cloudiness (%) vs. Latitude Linear Regression"
   ]
  },
  {
   "cell_type": "code",
   "execution_count": 171,
   "metadata": {},
   "outputs": [
    {
     "name": "stdout",
     "output_type": "stream",
     "text": [
      "The r-value is: 0.0006650016673178757\n"
     ]
    },
    {
     "data": {
      "image/png": "[encoded data removed]",
      "text/plain": [
       "<Figure size 432x288 with 1 Axes>"
      ]
     },
     "metadata": {
      "needs_background": "light"
     },
     "output_type": "display_data"
    }
   ],
   "source": [
    "#calculate r-value for Northern Hemisphere\n",
    "output = linear_regression(n_hemisphere[\"Latitude\"], n_hemisphere[\"Cloudy\"])\n",
    "annotate(output, 0, 0)\n",
    "\n",
    "#title, x and y labels\n",
    "plt.title(\"Northern Hemisphere- Cloudiness (%) vs Latitude Linear Regression\")\n",
    "plt.xlabel(\"Latitude\")\n",
    "plt.ylabel(\"Cloudiness (%)\")\n",
    "plt.savefig(\"NHCloudy.png\")\n",
    "plt.show()"
   ]
  },
  {
   "cell_type": "markdown",
   "metadata": {},
   "source": [
    "####  Southern Hemisphere - Cloudiness (%) vs. Latitude Linear Regression"
   ]
  },
  {
   "cell_type": "code",
   "execution_count": 172,
   "metadata": {},
   "outputs": [
    {
     "name": "stdout",
     "output_type": "stream",
     "text": [
      "The r-value is: 0.020267414095348116\n"
     ]
    },
    {
     "data": {
      "image/png": "[encoded data removed]",
      "text/plain": [
       "<Figure size 432x288 with 1 Axes>"
      ]
     },
     "metadata": {
      "needs_background": "light"
     },
     "output_type": "display_data"
    }
   ],
   "source": [
    "#calculate r-value for Northern Hemisphere\n",
    "output = linear_regression(s_hemisphere[\"Latitude\"], s_hemisphere[\"Cloudy\"])\n",
    "annotate(output, 0, 0)\n",
    "\n",
    "#title, x and y labels\n",
    "plt.title(\"Southern Hemisphere- Cloudiness (%) vs Latitude Linear Regression\")\n",
    "plt.xlabel(\"Latitude\")\n",
    "plt.ylabel(\"Cloudiness (%)\")\n",
    "plt.savefig(\"SHCloudy.png\")\n",
    "plt.show()"
   ]
  },
  {
   "cell_type": "markdown",
   "metadata": {},
   "source": [
    "####  Northern Hemisphere - Wind Speed (mph) vs. Latitude Linear Regression"
   ]
  },
  {
   "cell_type": "code",
   "execution_count": 173,
   "metadata": {},
   "outputs": [
    {
     "name": "stdout",
     "output_type": "stream",
     "text": [
      "The r-value is: 0.0051279049855226305\n"
     ]
    },
    {
     "data": {
      "image/png": "[encoded data removed]",
      "text/plain": [
       "<Figure size 432x288 with 1 Axes>"
      ]
     },
     "metadata": {
      "needs_background": "light"
     },
     "output_type": "display_data"
    }
   ],
   "source": [
    "#calculate r-value for Northern Hemisphere\n",
    "output = linear_regression(n_hemisphere[\"Latitude\"], n_hemisphere[\"Wind\"])\n",
    "annotate(output, 0, 0)\n",
    "\n",
    "#title, x and y labels\n",
    "plt.title(\"Southern Hemisphere- Wind Speed (mph) vs Latitude Linear Regression\")\n",
    "plt.xlabel(\"Latitude\")\n",
    "plt.ylabel(\"Wind Speed (mph)\")\n",
    "plt.savefig(\"NHwind.png\")\n",
    "plt.show()"
   ]
  },
  {
   "cell_type": "markdown",
   "metadata": {},
   "source": [
    "####  Southern Hemisphere - Wind Speed (mph) vs. Latitude Linear Regression"
   ]
  },
  {
   "cell_type": "code",
   "execution_count": 174,
   "metadata": {},
   "outputs": [
    {
     "name": "stdout",
     "output_type": "stream",
     "text": [
      "The r-value is: 0.015526474339305311\n"
     ]
    },
    {
     "data": {
      "image/png": "[encoded data removed]",
      "text/plain": [
       "<Figure size 432x288 with 1 Axes>"
      ]
     },
     "metadata": {
      "needs_background": "light"
     },
     "output_type": "display_data"
    }
   ],
   "source": [
    "#calculate r-value for Northern Hemisphere\n",
    "output = linear_regression(s_hemisphere[\"Latitude\"], s_hemisphere[\"Wind\"])\n",
    "annotate(output, 0, 0)\n",
    "\n",
    "#title, x and y labels\n",
    "plt.title(\"Southern Hemisphere- Wind Speed (mph) vs Latitude Linear Regression\")\n",
    "plt.xlabel(\"Latitude\")\n",
    "plt.ylabel(\"HWind Speed (mph)\")\n",
    "plt.savefig(\"SHwind.png\")\n",
    "plt.show()"
   ]
  },
  {
   "cell_type": "code",
   "execution_count": null,
   "metadata": {},
   "outputs": [],
   "source": []
  },
  {
   "cell_type": "code",
   "execution_count": null,
   "metadata": {},
   "outputs": [],
   "source": []
  }
 ],
 "metadata": {
  "anaconda-cloud": {},
  "kernel_info": {
   "name": "python3"
  },
  "kernelspec": {
   "display_name": "Python [conda env:PythonData] *",
   "language": "python",
   "name": "conda-env-PythonData-py"
  },
  "language_info": {
   "codemirror_mode": {
    "name": "ipython",
    "version": 3
   },
   "file_extension": ".py",
   "mimetype": "text/x-python",
   "name": "python",
   "nbconvert_exporter": "python",
   "pygments_lexer": "ipython3",
   "version": "3.6.10"
  },
  "latex_envs": {
   "LaTeX_envs_menu_present": true,
   "autoclose": false,
   "autocomplete": true,
   "bibliofile": "biblio.bib",
   "cite_by": "apalike",
   "current_citInitial": 1,
   "eqLabelWithNumbers": true,
   "eqNumInitial": 1,
   "hotkeys": {
    "equation": "Ctrl-E",
    "itemize": "Ctrl-I"
   },
   "labels_anchors": false,
   "latex_user_defs": false,
   "report_style_numbering": false,
   "user_envs_cfg": false
  },
  "nteract": {
   "version": "0.12.3"
  }
 },
 "nbformat": 4,
 "nbformat_minor": 2
}
